{
 "cells": [
  {
   "cell_type": "code",
   "execution_count": 26,
   "metadata": {},
   "outputs": [],
   "source": [
    "import numpy as np\n",
    "import sqlite3\n",
    "import pandas as pd\n",
    "\n",
    "\n",
    "\n",
    "\n"
   ]
  },
  {
   "cell_type": "code",
   "execution_count": 27,
   "metadata": {},
   "outputs": [
    {
     "name": "stdout",
     "output_type": "stream",
     "text": [
      "Note: you may need to restart the kernel to use updated packages.\n"
     ]
    }
   ],
   "source": [
    "%pip install -q ipython-sql"
   ]
  },
  {
   "cell_type": "code",
   "execution_count": 30,
   "metadata": {},
   "outputs": [
    {
     "name": "stdout",
     "output_type": "stream",
     "text": [
      "   idade_media\n",
      "0    28.333333\n",
      "     Nome  Idade Gênero\n",
      "0     Ana     22      F\n",
      "1   Bruno     28      M\n",
      "2  Carlos     35      M\n",
      "   count(*)\n",
      "0         3\n"
     ]
    }
   ],
   "source": [
    "import sqlite3\n",
    "import pandas as pd\n",
    "\n",
    "# Criar um dataframe\n",
    "df = pd.DataFrame({\n",
    "    'Nome': ['Ana', 'Bruno', 'Carlos'],\n",
    "    'Idade': [22, 28, 35],\n",
    "    'Gênero': ['F', 'M', 'M']\n",
    "})\n",
    "\n",
    "# Conectar ao banco de dados SQLite (ou criar um novo banco)\n",
    "conn = sqlite3.connect('projeto_teste.db')\n",
    "\n",
    "# Salvar o dataframe no banco de dados SQLite\n",
    "df.to_sql('tabela_exemplo', conn, if_exists='replace', index=False)\n",
    "\n",
    "# Ler os dados para verificar se foram inseridos corretamente\n",
    "df_lido = pd.read_sql(\"SELECT * FROM tabela_exemplo\", conn)\n",
    "df_average = pd.read_sql(\"SELECT avg(idade) as 'idade_media' FROM tabela_exemplo\", conn)\n",
    "df_count = pd.read_sql(\"SELECT count(*) FROM tabela_exemplo\", conn)\n",
    "\n",
    "print(df_average)\n",
    "print(df_lido)\n",
    "print(df_count)\n",
    "\n",
    "# Fechar a conexão\n",
    "conn.close()\n"
   ]
  },
  {
   "cell_type": "code",
   "execution_count": 4,
   "metadata": {},
   "outputs": [],
   "source": [
    "%rm \"projeto_teste.db\"\n",
    "#%del \"projeto_teste.db\""
   ]
  }
 ],
 "metadata": {
  "kernelspec": {
   "display_name": "usr",
   "language": "python",
   "name": "python3"
  },
  "language_info": {
   "codemirror_mode": {
    "name": "ipython",
    "version": 3
   },
   "file_extension": ".py",
   "mimetype": "text/x-python",
   "name": "python",
   "nbconvert_exporter": "python",
   "pygments_lexer": "ipython3",
   "version": "3.13.2"
  }
 },
 "nbformat": 4,
 "nbformat_minor": 2
}
