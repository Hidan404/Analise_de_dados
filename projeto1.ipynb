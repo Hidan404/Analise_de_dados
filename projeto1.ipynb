{
 "cells": [
  {
   "cell_type": "code",
   "execution_count": null,
   "metadata": {},
   "outputs": [],
   "source": [
    "import numpy as np\n",
    "import sqlite3\n",
    "import pandas as pd\n",
    "\n",
    "# Função para conectar ao banco de dados SQLite\n",
    "def conectar_banco_de_dados():\n",
    "    return sqlite3.connect('projeto_teste.db')\n",
    "\n",
    "# Carregar o dataset\n",
    "df = pd.read_csv(\"diabetes.csv\")\n",
    "\n",
    "# Exibir informações do DataFrame\n",
    "#print(df.shape)\n",
    "#print(df.head())\n",
    "\n",
    "# Criar conexão com o banco\n",
    "conn = conectar_banco_de_dados()\n",
    "\n",
    "# Salvar DataFrame no banco SQLite\n",
    "df.to_sql(\"diabetes\", conn, if_exists=\"replace\", index=False)\n",
    "\n",
    "query = \"SELECT Age, Glucose, Outcome FROM diabetes WHERE Glucose > 190\"\n",
    "df_glicose_alta = pd.read_sql(query,conn)\n",
    "print(df_glicose_alta)\n",
    "\n",
    "\n",
    "\n",
    "\n",
    "# Fechar a conexão\n",
    "conn.close()\n"
   ]
  },
  {
   "cell_type": "code",
   "execution_count": null,
   "metadata": {},
   "outputs": [],
   "source": [
    "create_table_query = \"\"\"\n",
    "CREATE TABLE pacientes (\n",
    "    Pregnancies INT,\n",
    "    Glucose INT,\n",
    "    BloodPressure INT,\n",
    "    SkinThickness INT,\n",
    "    Insulin INT,\n",
    "    BMI DECIMAL(8, 2),\n",
    "    DiabetesPedigreeFunction DECIMAL(8, 2),\n",
    "    Age INT,\n",
    "    Outcome INT\n",
    ");\n",
    "\"\"\"\n",
    "conn = conectar_banco_de_dados()\n",
    "cursor = conn.cursor()\n",
    "\n",
    "\n",
    "cursor.execute(create_table_query)\n",
    "\n",
    "conn.commit()\n",
    "conn.close()"
   ]
  },
  {
   "cell_type": "code",
   "execution_count": 14,
   "metadata": {},
   "outputs": [],
   "source": [
    "insert_query = \"\"\"\n",
    "INSERT INTO pacientes (Pregnancies, \n",
    "                       Glucose, \n",
    "                       BloodPressure, \n",
    "                       SkinThickness, \n",
    "                       Insulin, \n",
    "                       BMI, \n",
    "                       DiabetesPedigreeFunction, \n",
    "                       Age, \n",
    "                       Outcome) \n",
    "SELECT Pregnancies, \n",
    "       Glucose, \n",
    "       BloodPressure, \n",
    "       SkinThickness, \n",
    "       Insulin, \n",
    "       BMI, \n",
    "       DiabetesPedigreeFunction, \n",
    "       Age, \n",
    "       Outcome \n",
    "FROM diabetes WHERE Age > 50;\n",
    "\"\"\"\n",
    "\n",
    "conn = conectar_banco_de_dados()\n",
    "cursor = conn.cursor()\n",
    "\n",
    "\n",
    "cursor.execute(insert_query)\n",
    "\n",
    "conn.commit()\n",
    "conn.close()"
   ]
  },
  {
   "cell_type": "code",
   "execution_count": null,
   "metadata": {},
   "outputs": [],
   "source": [
    "query = \"SELECT * FROM pacientes\"\n",
    "conn = conectar_banco_de_dados()\n",
    "consultar_pacientes = pd.read_sql(query,conn)\n",
    "display(consultar_pacientes)\n",
    "\n",
    "conn.close()"
   ]
  },
  {
   "cell_type": "code",
   "execution_count": null,
   "metadata": {},
   "outputs": [],
   "source": [
    "%pip install -q ipython-sql"
   ]
  }
 ],
 "metadata": {
  "kernelspec": {
   "display_name": "usr",
   "language": "python",
   "name": "python3"
  },
  "language_info": {
   "codemirror_mode": {
    "name": "ipython",
    "version": 3
   },
   "file_extension": ".py",
   "mimetype": "text/x-python",
   "name": "python",
   "nbconvert_exporter": "python",
   "pygments_lexer": "ipython3",
   "version": "3.13.2"
  }
 },
 "nbformat": 4,
 "nbformat_minor": 2
}
