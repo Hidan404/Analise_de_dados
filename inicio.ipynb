{
 "cells": [
  {
   "cell_type": "code",
   "execution_count": null,
   "id": "4c5ee72c-e81d-48a0-9871-86632157a183",
   "metadata": {},
   "outputs": [
    {
     "name": "stdout",
     "output_type": "stream",
     "text": [
      "[[0.35178864 0.06599381 0.33381295]\n",
      " [0.96747792 0.67859364 0.95506691]\n",
      " [0.62139679 0.49910195 0.02469928]\n",
      " [0.08490063 0.11349054 0.55320071]\n",
      " [0.4310686  0.80087573 0.3853772 ]]\n"
     ]
    }
   ],
   "source": [
    "import numpy as np\n",
    "\n",
    "data = np.random.randint(5, 3)\n",
    "print(data) \n"
   ]
  },
  {
   "cell_type": "code",
   "execution_count": null,
   "id": "7873e864-ec13-4414-bf5c-22e588e26f8e",
   "metadata": {},
   "outputs": [],
   "source": []
  }
 ],
 "metadata": {
  "kernelspec": {
   "display_name": "usr",
   "language": "python",
   "name": "python3"
  },
  "language_info": {
   "codemirror_mode": {
    "name": "ipython",
    "version": 3
   },
   "file_extension": ".py",
   "mimetype": "text/x-python",
   "name": "python",
   "nbconvert_exporter": "python",
   "pygments_lexer": "ipython3",
   "version": "3.13.2"
  }
 },
 "nbformat": 4,
 "nbformat_minor": 5
}
